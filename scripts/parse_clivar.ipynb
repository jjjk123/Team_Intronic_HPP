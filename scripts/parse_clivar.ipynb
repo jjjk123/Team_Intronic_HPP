{
 "cells": [
  {
   "cell_type": "code",
   "execution_count": 22,
   "metadata": {},
   "outputs": [],
   "source": [
    "def read_fasta(file_name):\n",
    "    '''\n",
    "    arguments:\n",
    "    - file_name: path to input FASTA file, type=str\n",
    "\n",
    "    returns:\n",
    "    - header: input FASTA header, type=str\n",
    "    - sequence: input FASTA sequence, type=str\n",
    "    '''\n",
    "    sequence = \"\"\n",
    "\n",
    "    with open(file_name, 'r') as f_fasta:\n",
    "        header = f_fasta.readline()\n",
    "\n",
    "        for line in f_fasta:\n",
    "            sequence += line.replace('\\n', '')\n",
    "    \n",
    "    return header, sequence"
   ]
  },
  {
   "cell_type": "code",
   "execution_count": 23,
   "metadata": {},
   "outputs": [],
   "source": [
    "def find_struct(pos, struct_pos):\n",
    "    '''\n",
    "    arguments:\n",
    "    - pos: genomic position, type=int\n",
    "    - struct_pos: list of ALPL-specific genomic structures (exons/introns),\n",
    "      with elements: (structure_name, start, end)\n",
    "\n",
    "    returns:\n",
    "    - struct: structure_name (e.g., \"exon1\"), type=str\n",
    "    - start: start position of genomic structure, type=int\n",
    "    \n",
    "    '''\n",
    "    for struct, start, end in struct_pos:\n",
    "        if start <= pos <= end:\n",
    "            return struct, start"
   ]
  },
  {
   "cell_type": "code",
   "execution_count": 24,
   "metadata": {},
   "outputs": [],
   "source": [
    "def replace_variant(sequence, position, variant, start_pos_struct):\n",
    "    '''\n",
    "    arguments:\n",
    "    - sequence: genomic sequence, type=str\n",
    "    - position: genomic position to replace with variant, type=int\n",
    "    - variant: type=str\n",
    "    - start_pos_struct: start position of genomic structure (exon/intron), type=int\n",
    "\n",
    "    - returns: genomic sequence with variant, type=str\n",
    "    '''\n",
    "    seq_pos = position - start_pos_struct\n",
    "\n",
    "    new_sequence = sequence[:seq_pos] + variant + sequence[seq_pos+1:]\n",
    "\n",
    "    assert len(new_sequence) == len(sequence)\n",
    "\n",
    "    return new_sequence"
   ]
  },
  {
   "cell_type": "code",
   "execution_count": 34,
   "metadata": {},
   "outputs": [],
   "source": [
    "def write_fasta(file_name, header, sequence):\n",
    "    '''\n",
    "    arguments:\n",
    "    - file_name: type=str,\n",
    "    - header: output FASTA header, type=str,\n",
    "    - sequence: output FASTA sequence, type=str\n",
    "    '''\n",
    "    with open(file_name, 'w+') as f:\n",
    "        f.write(header)\n",
    "        f.write(sequence)"
   ]
  },
  {
   "cell_type": "code",
   "execution_count": 35,
   "metadata": {},
   "outputs": [],
   "source": [
    "# list of ALPL-specific genomic structures:\n",
    "# (exon/intron, start, end)\n",
    "struct_pos = [\n",
    "    (\"exon1\", 21509323, 21509617),\n",
    "    (\"exon2\", 21553878, 21554242),\n",
    "    (\"exon3\", 21560526, 21560845),\n",
    "    (\"exon4\", 21560997, 21561312),\n",
    "    (\"exon5\", 21563010, 21563384),\n",
    "    (\"exon6\", 21563941, 21564316),\n",
    "    (\"exon7\", 21568004, 21568347),\n",
    "    (\"exon8\", 21570205, 21570474),\n",
    "    (\"exon9\", 21573565, 21573899),\n",
    "    (\"exon10\", 21575633, 21576024),\n",
    "    (\"exon11\", 21576422, 21576741),\n",
    "    (\"exon12\", 21577283, 21578510),\n",
    "    (\"intron1\", 21509418, 21554077),\n",
    "    (\"intron2\", 21554043, 21560725),\n",
    "    (\"intron3\", 21560646, 21561196),\n",
    "    (\"intron4\", 21561113, 21563209),\n",
    "    (\"intron5\", 21563185, 21564140),\n",
    "    (\"intron6\", 21564117, 21568203),\n",
    "    (\"intron7\", 21568148, 21570404),\n",
    "    (\"intron8\", 21570275, 21573764),\n",
    "    (\"intron9\", 21573700, 21575832),\n",
    "    (\"intron10\", 21575825, 21576621),\n",
    "    (\"intron11\", 21576542, 21577482)\n",
    "]"
   ]
  },
  {
   "cell_type": "markdown",
   "metadata": {},
   "source": [
    "### Parse ClinVar results for the ALPL gene"
   ]
  },
  {
   "cell_type": "code",
   "execution_count": 36,
   "metadata": {},
   "outputs": [],
   "source": [
    "'''\n",
    "Take ClinVar results trimmed to columns:\n",
    "\n",
    "[Name, Gene(s), Accession, GRCh38Location, Variant type]\n",
    "\n",
    "Filter to include only SNVs.\n",
    "\n",
    "Save to dict with key=variantID, values=[genomic position, variant].\n",
    "'''\n",
    "\n",
    "var_ids = []\n",
    "variants_dict = {}\n",
    "\n",
    "with open(\"../data/clinvar_result_trimmed.txt\") as f_clinvar:\n",
    "    # skip header\n",
    "    next(f_clinvar)\n",
    "\n",
    "    for line in f_clinvar:\n",
    "        split_line = line.rstrip().split('\\t')\n",
    "\n",
    "        (name, gene, var_id, location, var_type) = split_line\n",
    "\n",
    "        # skip name if not NM_000478 (ALPL RefSeqID)\n",
    "        if \"NM_000478\" not in name:\n",
    "            continue\n",
    "        # extract SNV\n",
    "        split_name = name.split(' ')\n",
    "        var_nt = split_name[0][-1]\n",
    "\n",
    "        # skip non ALPL-specific variants\n",
    "        if gene != \"ALPL\":\n",
    "            continue\n",
    "\n",
    "        # keep only SNVs for now\n",
    "        if var_type != \"single nucleotide variant\":\n",
    "            continue\n",
    "\n",
    "        else:\n",
    "            var_ids.append(var_id)\n",
    "            variants_dict[var_id] = [int(location), var_nt]"
   ]
  },
  {
   "cell_type": "markdown",
   "metadata": {},
   "source": [
    "### Create a FASTA file per intron / exon and variant"
   ]
  },
  {
   "cell_type": "code",
   "execution_count": 37,
   "metadata": {},
   "outputs": [],
   "source": [
    "'''\n",
    "Take dict var_ids with key=variantID, values=[genomic position, variant]\n",
    "\n",
    "For each variant (SNV), create a FASTA file (per exon/intron) with sequence containing the variant\n",
    "'''\n",
    "\n",
    "for var_id in var_ids:\n",
    "    # get variant position and nucleotide\n",
    "    variant_pos = variants_dict[var_id][0]\n",
    "    variant_nt = variants_dict[var_id][1]\n",
    "\n",
    "    # find genomic structure (exon, intron) and its starting position for the variant\n",
    "    struct, start_pos = find_struct(pos=variant_pos, struct_pos=struct_pos)\n",
    "\n",
    "    # read genomic structure FASTA\n",
    "    input_file = f\"../data/genomic_structures/ALPL_{struct}.fasta\"\n",
    "    header, sequence = read_fasta(input_file)\n",
    "\n",
    "    # replace variant in sequence of genomic structure\n",
    "    new_sequence = replace_variant(sequence, position=variant_pos, variant=variant_nt, start_pos_struct=start_pos)\n",
    "\n",
    "    # save genomic structure FASTA with variant\n",
    "    output_fasta = f\"../data/genomic_structures_variants/ALPL_{struct}_{var_id}.fasta\"\n",
    "    write_fasta(output_fasta, header, new_sequence)"
   ]
  },
  {
   "cell_type": "code",
   "execution_count": null,
   "metadata": {},
   "outputs": [],
   "source": []
  }
 ],
 "metadata": {
  "kernelspec": {
   "display_name": "rare_diseases",
   "language": "python",
   "name": "python3"
  },
  "language_info": {
   "codemirror_mode": {
    "name": "ipython",
    "version": 3
   },
   "file_extension": ".py",
   "mimetype": "text/x-python",
   "name": "python",
   "nbconvert_exporter": "python",
   "pygments_lexer": "ipython3",
   "version": "3.12.3"
  }
 },
 "nbformat": 4,
 "nbformat_minor": 2
}
